{
 "cells": [
  {
   "cell_type": "code",
   "execution_count": 1,
   "metadata": {},
   "outputs": [],
   "source": [
    "import pandas as pd\n",
    "import matplotlib.pyplot as plt\n",
    "import seaborn as sns\n",
    "import matplotlib as mpl\n",
    "import numpy as np\n",
    "import os\n",
    "os.environ[\"CUDA_VISIBLE_DEVICES\"]=\"\"\n",
    "import tensorflow as tf\n",
    "import selfies as sf\n",
    "import exmol\n",
    "from dataclasses import dataclass\n",
    "from rdkit.Chem.Draw import rdDepictor\n",
    "from rdkit.Chem import MolFromSmiles, MACCSkeys\n",
    "rdDepictor.SetPreferCoordGen(True)\n",
    "sns.set_context('notebook')\n",
    "sns.set_style('white',  {'xtick.bottom':True, 'ytick.left':True, 'xtick.color': '#666666', 'ytick.color': '#666666',\n",
    "                        'axes.edgecolor': '#666666', 'axes.linewidth':     0.8 , 'figure.dpi': 300})\n",
    "color_cycle = ['#1BBC9B', '#F06060', '#5C4B51', '#F3B562', '#6e5687']\n",
    "mpl.rcParams['axes.prop_cycle'] = mpl.cycler(color=color_cycle) \n",
    "soldata = pd.read_csv('https://github.com/whitead/dmol-book/raw/master/data/curated-solubility-dataset.csv')\n",
    "features_start_at = list(soldata.columns).index('MolWt')\n",
    "np.random.seed(0)"
   ]
  },
  {
   "cell_type": "code",
   "execution_count": 2,
   "metadata": {},
   "outputs": [
    {
     "data": {
      "text/html": [
       "<div>\n",
       "<style scoped>\n",
       "    .dataframe tbody tr th:only-of-type {\n",
       "        vertical-align: middle;\n",
       "    }\n",
       "\n",
       "    .dataframe tbody tr th {\n",
       "        vertical-align: top;\n",
       "    }\n",
       "\n",
       "    .dataframe thead th {\n",
       "        text-align: right;\n",
       "    }\n",
       "</style>\n",
       "<table border=\"1\" class=\"dataframe\">\n",
       "  <thead>\n",
       "    <tr style=\"text-align: right;\">\n",
       "      <th></th>\n",
       "      <th>ID</th>\n",
       "      <th>Name</th>\n",
       "      <th>InChI</th>\n",
       "      <th>InChIKey</th>\n",
       "      <th>SMILES</th>\n",
       "      <th>Solubility</th>\n",
       "      <th>SD</th>\n",
       "      <th>Ocurrences</th>\n",
       "      <th>Group</th>\n",
       "      <th>MolWt</th>\n",
       "      <th>...</th>\n",
       "      <th>NumRotatableBonds</th>\n",
       "      <th>NumValenceElectrons</th>\n",
       "      <th>NumAromaticRings</th>\n",
       "      <th>NumSaturatedRings</th>\n",
       "      <th>NumAliphaticRings</th>\n",
       "      <th>RingCount</th>\n",
       "      <th>TPSA</th>\n",
       "      <th>LabuteASA</th>\n",
       "      <th>BalabanJ</th>\n",
       "      <th>BertzCT</th>\n",
       "    </tr>\n",
       "  </thead>\n",
       "  <tbody>\n",
       "    <tr>\n",
       "      <th>0</th>\n",
       "      <td>B-4206</td>\n",
       "      <td>diuron</td>\n",
       "      <td>InChI=1S/C9H10Cl2N2O/c1-13(2)9(14)12-6-3-4-7(1...</td>\n",
       "      <td>XMTQQYYKAHVGBJ-UHFFFAOYSA-N</td>\n",
       "      <td>CN(C)C(=O)Nc1ccc(Cl)c(Cl)c1</td>\n",
       "      <td>-3.744300</td>\n",
       "      <td>1.227164</td>\n",
       "      <td>5</td>\n",
       "      <td>G4</td>\n",
       "      <td>233.098</td>\n",
       "      <td>...</td>\n",
       "      <td>1.0</td>\n",
       "      <td>76.0</td>\n",
       "      <td>1.0</td>\n",
       "      <td>0.0</td>\n",
       "      <td>0.0</td>\n",
       "      <td>1.0</td>\n",
       "      <td>32.34</td>\n",
       "      <td>92.603980</td>\n",
       "      <td>2.781208</td>\n",
       "      <td>352.665233</td>\n",
       "    </tr>\n",
       "    <tr>\n",
       "      <th>1</th>\n",
       "      <td>F-988</td>\n",
       "      <td>7-(3-amino-3-methylazetidin-1-yl)-8-chloro-1-c...</td>\n",
       "      <td>InChI=1S/C17H17ClFN3O3/c1-17(20)6-21(7-17)14-1...</td>\n",
       "      <td>DUNZFXZSFJLIKR-UHFFFAOYSA-N</td>\n",
       "      <td>CC1(N)CN(C2=C(Cl)C3=C(C=C2F)C(=O)C(C(=O)O)=CN3...</td>\n",
       "      <td>-5.330000</td>\n",
       "      <td>0.000000</td>\n",
       "      <td>1</td>\n",
       "      <td>G1</td>\n",
       "      <td>365.792</td>\n",
       "      <td>...</td>\n",
       "      <td>3.0</td>\n",
       "      <td>132.0</td>\n",
       "      <td>2.0</td>\n",
       "      <td>2.0</td>\n",
       "      <td>2.0</td>\n",
       "      <td>4.0</td>\n",
       "      <td>88.56</td>\n",
       "      <td>147.136366</td>\n",
       "      <td>2.001398</td>\n",
       "      <td>973.487509</td>\n",
       "    </tr>\n",
       "    <tr>\n",
       "      <th>2</th>\n",
       "      <td>C-1996</td>\n",
       "      <td>4-acetoxybiphenyl;  4-biphenylyl  acetate</td>\n",
       "      <td>InChI=1S/C14H12O2/c1-11(15)16-14-9-7-13(8-10-1...</td>\n",
       "      <td>MISFQCBPASYYGV-UHFFFAOYSA-N</td>\n",
       "      <td>CC(=O)OC1=CC=C(C=C1)C2=CC=CC=C2</td>\n",
       "      <td>-4.400000</td>\n",
       "      <td>0.000000</td>\n",
       "      <td>1</td>\n",
       "      <td>G1</td>\n",
       "      <td>212.248</td>\n",
       "      <td>...</td>\n",
       "      <td>2.0</td>\n",
       "      <td>80.0</td>\n",
       "      <td>2.0</td>\n",
       "      <td>0.0</td>\n",
       "      <td>0.0</td>\n",
       "      <td>2.0</td>\n",
       "      <td>26.30</td>\n",
       "      <td>94.493449</td>\n",
       "      <td>2.228677</td>\n",
       "      <td>471.848345</td>\n",
       "    </tr>\n",
       "    <tr>\n",
       "      <th>3</th>\n",
       "      <td>A-3055</td>\n",
       "      <td>methane dimolybdenum</td>\n",
       "      <td>InChI=1S/CH4.2Mo/h1H4;;</td>\n",
       "      <td>JAGQSESDQXCFCH-UHFFFAOYSA-N</td>\n",
       "      <td>C.[Mo].[Mo]</td>\n",
       "      <td>-3.420275</td>\n",
       "      <td>0.409223</td>\n",
       "      <td>2</td>\n",
       "      <td>G3</td>\n",
       "      <td>207.923</td>\n",
       "      <td>...</td>\n",
       "      <td>0.0</td>\n",
       "      <td>20.0</td>\n",
       "      <td>0.0</td>\n",
       "      <td>0.0</td>\n",
       "      <td>0.0</td>\n",
       "      <td>0.0</td>\n",
       "      <td>0.00</td>\n",
       "      <td>49.515427</td>\n",
       "      <td>-0.000000</td>\n",
       "      <td>2.754888</td>\n",
       "    </tr>\n",
       "    <tr>\n",
       "      <th>4</th>\n",
       "      <td>A-2575</td>\n",
       "      <td>ethyl 4-[[(methylphenylamino)methylene]amino]b...</td>\n",
       "      <td>InChI=1S/C17H18N2O2/c1-3-21-17(20)14-9-11-15(1...</td>\n",
       "      <td>GNGYPJUKIKDJQT-UHFFFAOYSA-N</td>\n",
       "      <td>CCOC(=O)c1ccc(cc1)N=CN(C)c2ccccc2</td>\n",
       "      <td>-5.450777</td>\n",
       "      <td>0.000000</td>\n",
       "      <td>1</td>\n",
       "      <td>G1</td>\n",
       "      <td>282.343</td>\n",
       "      <td>...</td>\n",
       "      <td>5.0</td>\n",
       "      <td>108.0</td>\n",
       "      <td>2.0</td>\n",
       "      <td>0.0</td>\n",
       "      <td>0.0</td>\n",
       "      <td>2.0</td>\n",
       "      <td>41.90</td>\n",
       "      <td>124.243431</td>\n",
       "      <td>2.028889</td>\n",
       "      <td>606.447052</td>\n",
       "    </tr>\n",
       "  </tbody>\n",
       "</table>\n",
       "<p>5 rows × 26 columns</p>\n",
       "</div>"
      ],
      "text/plain": [
       "       ID                                               Name  \\\n",
       "0  B-4206                                             diuron   \n",
       "1   F-988  7-(3-amino-3-methylazetidin-1-yl)-8-chloro-1-c...   \n",
       "2  C-1996          4-acetoxybiphenyl;  4-biphenylyl  acetate   \n",
       "3  A-3055                               methane dimolybdenum   \n",
       "4  A-2575  ethyl 4-[[(methylphenylamino)methylene]amino]b...   \n",
       "\n",
       "                                               InChI  \\\n",
       "0  InChI=1S/C9H10Cl2N2O/c1-13(2)9(14)12-6-3-4-7(1...   \n",
       "1  InChI=1S/C17H17ClFN3O3/c1-17(20)6-21(7-17)14-1...   \n",
       "2  InChI=1S/C14H12O2/c1-11(15)16-14-9-7-13(8-10-1...   \n",
       "3                            InChI=1S/CH4.2Mo/h1H4;;   \n",
       "4  InChI=1S/C17H18N2O2/c1-3-21-17(20)14-9-11-15(1...   \n",
       "\n",
       "                      InChIKey  \\\n",
       "0  XMTQQYYKAHVGBJ-UHFFFAOYSA-N   \n",
       "1  DUNZFXZSFJLIKR-UHFFFAOYSA-N   \n",
       "2  MISFQCBPASYYGV-UHFFFAOYSA-N   \n",
       "3  JAGQSESDQXCFCH-UHFFFAOYSA-N   \n",
       "4  GNGYPJUKIKDJQT-UHFFFAOYSA-N   \n",
       "\n",
       "                                              SMILES  Solubility        SD  \\\n",
       "0                        CN(C)C(=O)Nc1ccc(Cl)c(Cl)c1   -3.744300  1.227164   \n",
       "1  CC1(N)CN(C2=C(Cl)C3=C(C=C2F)C(=O)C(C(=O)O)=CN3...   -5.330000  0.000000   \n",
       "2                    CC(=O)OC1=CC=C(C=C1)C2=CC=CC=C2   -4.400000  0.000000   \n",
       "3                                        C.[Mo].[Mo]   -3.420275  0.409223   \n",
       "4                  CCOC(=O)c1ccc(cc1)N=CN(C)c2ccccc2   -5.450777  0.000000   \n",
       "\n",
       "   Ocurrences Group    MolWt  ...  NumRotatableBonds  NumValenceElectrons  \\\n",
       "0           5    G4  233.098  ...                1.0                 76.0   \n",
       "1           1    G1  365.792  ...                3.0                132.0   \n",
       "2           1    G1  212.248  ...                2.0                 80.0   \n",
       "3           2    G3  207.923  ...                0.0                 20.0   \n",
       "4           1    G1  282.343  ...                5.0                108.0   \n",
       "\n",
       "   NumAromaticRings  NumSaturatedRings  NumAliphaticRings  RingCount   TPSA  \\\n",
       "0               1.0                0.0                0.0        1.0  32.34   \n",
       "1               2.0                2.0                2.0        4.0  88.56   \n",
       "2               2.0                0.0                0.0        2.0  26.30   \n",
       "3               0.0                0.0                0.0        0.0   0.00   \n",
       "4               2.0                0.0                0.0        2.0  41.90   \n",
       "\n",
       "    LabuteASA  BalabanJ     BertzCT  \n",
       "0   92.603980  2.781208  352.665233  \n",
       "1  147.136366  2.001398  973.487509  \n",
       "2   94.493449  2.228677  471.848345  \n",
       "3   49.515427 -0.000000    2.754888  \n",
       "4  124.243431  2.028889  606.447052  \n",
       "\n",
       "[5 rows x 26 columns]"
      ]
     },
     "execution_count": 2,
     "metadata": {},
     "output_type": "execute_result"
    }
   ],
   "source": [
    "# scramble them\n",
    "# Reduced for CI!\n",
    "soldata = soldata.sample(frac=0.01, random_state=0).reset_index(drop=True)\n",
    "soldata.head()"
   ]
  },
  {
   "cell_type": "code",
   "execution_count": 3,
   "metadata": {},
   "outputs": [],
   "source": [
    "selfies_list = [sf.encoder(exmol.sanitize_smiles(s)[1]) for s in soldata.SMILES]"
   ]
  },
  {
   "cell_type": "code",
   "execution_count": 4,
   "metadata": {},
   "outputs": [
    {
     "name": "stdout",
     "output_type": "stream",
     "text": [
      "Vocab size 37\n",
      "selfies: [C][N][Branch1_1][C][C][C][Branch1_2][C][=O][N][C][=C][C][=C][Branch1_1][C][Cl][C][Branch1_1][C][Cl][=C][Ring1][Branch2_1]\n",
      "selfies2ints: [28, 32, 22, 28, 28, 28, 2, 28, 24, 32, 28, 11, 28, 11, 22, 28, 16, 28, 22, 28, 16, 11, 3, 19]\n",
      "ints2selfes: [C][N][Branch1_1][C][C][C][Branch1_2][C][=O][N][C][=C][C][=C][Branch1_1][C][Cl][C][Branch1_1][C][Cl][=C][Ring1][Branch2_1]\n"
     ]
    }
   ],
   "source": [
    "vocab = list(sf.get_alphabet_from_selfies([s for s in selfies_list if s is not None]))\n",
    "vocab_stoi = {o:i for o,i in zip(vocab, range(len(vocab)))}\n",
    "print('Vocab size', len(vocab))\n",
    "\n",
    "def selfies2ints(s):\n",
    "    result = []\n",
    "    for token in sf.split_selfies(s):\n",
    "        if token == '.':\n",
    "            continue #?\n",
    "        if token in vocab_stoi:\n",
    "            result.append(vocab_stoi[token])\n",
    "        else:\n",
    "            result.append(np.nan)\n",
    "            #print('Warning')\n",
    "    return result\n",
    "def ints2selfies(v):\n",
    "    return ''.join([vocab[i] for i in v])\n",
    "\n",
    "# test them out\n",
    "s = selfies_list[0]\n",
    "print('selfies:', s)\n",
    "v = selfies2ints(s)\n",
    "print('selfies2ints:', v)\n",
    "so = ints2selfies(v)\n",
    "print('ints2selfes:', so)\n",
    "assert so == s"
   ]
  },
  {
   "cell_type": "code",
   "execution_count": 5,
   "metadata": {},
   "outputs": [],
   "source": [
    "#creating an object\n",
    "@dataclass\n",
    "class Config:\n",
    "    vocab_size: int\n",
    "    example_number: int\n",
    "    batch_size: int\n",
    "    buffer_size: int\n",
    "    embedding_dim: int\n",
    "    rnn_units: int\n",
    "    hidden_dim: int\n",
    "        \n",
    "config = Config(vocab_size=len(vocab), \n",
    "                example_number=len(selfies_list), \n",
    "                batch_size=16, \n",
    "                buffer_size=10000, \n",
    "                embedding_dim=256, \n",
    "                hidden_dim=128,\n",
    "                rnn_units=128)"
   ]
  },
  {
   "cell_type": "code",
   "execution_count": 6,
   "metadata": {},
   "outputs": [],
   "source": [
    "# now get sequences\n",
    "encoded = [selfies2ints(s) for s in selfies_list if s is not None]\n",
    "padded_seqs = tf.keras.preprocessing.sequence.pad_sequences(encoded, padding='post')\n",
    "\n",
    "# Now build dataset\n",
    "data = tf.data.Dataset.from_tensor_slices((padded_seqs, soldata.Solubility.iloc[[bool(s) for s in selfies_list]].values))\n",
    "# now split into val, test, train and batch\n",
    "N = len(data)  \n",
    "split = int(0.1 * N)\n",
    "test_data = data.take(split).batch(config.batch_size)\n",
    "nontest = data.skip(split)\n",
    "val_data, train_data = nontest.take(split).batch(config.batch_size), \\\n",
    "    nontest.skip(split).shuffle(config.buffer_size).batch(config.batch_size).prefetch(tf.data.experimental.AUTOTUNE)"
   ]
  },
  {
   "cell_type": "code",
   "execution_count": 7,
   "metadata": {
    "scrolled": false
   },
   "outputs": [
    {
     "name": "stdout",
     "output_type": "stream",
     "text": [
      "Model: \"sequential\"\n",
      "_________________________________________________________________\n",
      "Layer (type)                 Output Shape              Param #   \n",
      "=================================================================\n",
      "embedding (Embedding)        (None, None, 256)         9472      \n",
      "_________________________________________________________________\n",
      "gru (GRU)                    (None, 128)               148224    \n",
      "_________________________________________________________________\n",
      "dense (Dense)                (None, 128)               16512     \n",
      "_________________________________________________________________\n",
      "dense_1 (Dense)              (None, 1)                 129       \n",
      "=================================================================\n",
      "Total params: 174,337\n",
      "Trainable params: 174,337\n",
      "Non-trainable params: 0\n",
      "_________________________________________________________________\n"
     ]
    }
   ],
   "source": [
    "model = tf.keras.Sequential()\n",
    "\n",
    "# make embedding and indicate that 0 should be treated as padding mask\n",
    "model.add(tf.keras.layers.Embedding(input_dim=config.vocab_size, output_dim=config.embedding_dim, mask_zero=True))\n",
    "\n",
    "# RNN layer\n",
    "model.add(tf.keras.layers.GRU(config.rnn_units))\n",
    "# a dense hidden layer\n",
    "model.add(tf.keras.layers.Dense(config.hidden_dim, activation='relu'))\n",
    "# regression, so no activation\n",
    "model.add(tf.keras.layers.Dense(1))\n",
    "\n",
    "model.summary()"
   ]
  },
  {
   "cell_type": "code",
   "execution_count": 8,
   "metadata": {},
   "outputs": [],
   "source": [
    "model.compile(tf.optimizers.Adam(1e-4), loss='mean_squared_error')\n",
    "result = model.fit(train_data, validation_data=val_data, epochs=100, verbose=0)"
   ]
  },
  {
   "cell_type": "code",
   "execution_count": 9,
   "metadata": {},
   "outputs": [
    {
     "data": {
      "image/png": "[encoded data removed]",
      "text/plain": [
       "<Figure size 432x288 with 1 Axes>"
      ]
     },
     "metadata": {
      "needs_background": "light"
     },
     "output_type": "display_data"
    }
   ],
   "source": [
    "plt.plot(result.history['loss'], label='training')\n",
    "plt.plot(result.history['val_loss'], label='validation')\n",
    "plt.legend()\n",
    "plt.xlabel('Epoch')\n",
    "plt.ylabel('Loss')\n",
    "plt.show()"
   ]
  },
  {
   "cell_type": "code",
   "execution_count": 10,
   "metadata": {},
   "outputs": [
    {
     "data": {
      "image/png": "[encoded data removed]",
      "text/plain": [
       "<Figure size 432x288 with 1 Axes>"
      ]
     },
     "metadata": {
      "needs_background": "light"
     },
     "output_type": "display_data"
    }
   ],
   "source": [
    "yhat = []\n",
    "test_y = []\n",
    "for x,y in test_data:\n",
    "    yhat.extend(model(x).numpy().flatten())\n",
    "    test_y.extend(y.numpy().flatten())\n",
    "yhat = np.array(yhat)\n",
    "test_y = np.array(test_y)\n",
    "\n",
    "# plot test data\n",
    "plt.plot(test_y, test_y, ':')\n",
    "plt.plot(test_y, yhat, '.')\n",
    "plt.text(min(y) - 7, max(y) - 2, f'correlation = {np.corrcoef(test_y, yhat)[0,1]:.3f}')\n",
    "plt.text(min(y) - 7, max(y) - 3, f'loss = {np.sqrt(np.mean((test_y - yhat)**2)):.3f}')\n",
    "plt.title('Testing Data')\n",
    "plt.savefig('rnn-fit.png', dpi=300)\n",
    "plt.show()\n"
   ]
  },
  {
   "cell_type": "markdown",
   "metadata": {},
   "source": [
    "## CF explanation:\n",
    "\n",
    "In the following example let's say we would like our molecules to return a solubility value of -3.5. Here we use `counterstone` algorithm to create counter factual explanations. In other words, we would like to see what are the minimal mutations that could to be done to our input structure to get our desired solubility."
   ]
  },
  {
   "cell_type": "code",
   "execution_count": 11,
   "metadata": {},
   "outputs": [],
   "source": [
    "def predictor_function(smile_list,selfies):\n",
    "    encoded = [selfies2ints(s) for s in selfies]\n",
    "    # check for nans\n",
    "    valid = [1. if sum(e) > 0 else np.nan for e in encoded]\n",
    "    encoded = [np.nan_to_num(e, nan=0) for e in encoded]\n",
    "    padded_seqs = tf.keras.preprocessing.sequence.pad_sequences(encoded, padding='post')\n",
    "    labels = np.reshape(model.predict(padded_seqs), (-1))\n",
    "    return labels * valid"
   ]
  },
  {
   "cell_type": "code",
   "execution_count": 12,
   "metadata": {},
   "outputs": [
    {
     "data": {
      "text/plain": [
       "array([        nan, -0.40223426])"
      ]
     },
     "execution_count": 12,
     "metadata": {},
     "output_type": "execute_result"
    }
   ],
   "source": [
    "predictor_function([], ['[C][#S-expl]', '[C]'])"
   ]
  },
  {
   "cell_type": "code",
   "execution_count": 13,
   "metadata": {},
   "outputs": [
    {
     "data": {
      "text/plain": [
       "[102,\n",
       " 108,\n",
       " 109,\n",
       " 114,\n",
       " 115,\n",
       " 118,\n",
       " 124,\n",
       " 126,\n",
       " 128,\n",
       " 129,\n",
       " 132,\n",
       " 138,\n",
       " 147,\n",
       " 149,\n",
       " 153,\n",
       " 155,\n",
       " 157,\n",
       " 159,\n",
       " 160,\n",
       " 164]"
      ]
     },
     "execution_count": 13,
     "metadata": {},
     "output_type": "execute_result"
    }
   ],
   "source": [
    "m = MolFromSmiles('CCCOOCC')\n",
    "MACCS = list(MACCSkeys.GenMACCSKeys(m).ToBitString())\n",
    "OnBits = [i for i in range(167) if MACCS[i] == '1']\n",
    "OnBits"
   ]
  },
  {
   "cell_type": "code",
   "execution_count": 14,
   "metadata": {
    "scrolled": true
   },
   "outputs": [
    {
     "name": "stderr",
     "output_type": "stream",
     "text": [
      "🤘Done🤘: 100%|██████████| 3524.0/3524 [00:17<00:00, 202.07it/s]              \n"
     ]
    }
   ],
   "source": [
    "stoned_kwargs={'num_samples': 2500, 'alphabet':exmol.get_basic_alphabet(), 'max_mutations': 2}\n",
    "space = exmol.sample_space(soldata.SMILES[4], predictor_function, stoned_kwargs=stoned_kwargs)"
   ]
  },
  {
   "cell_type": "code",
   "execution_count": 15,
   "metadata": {
    "scrolled": true
   },
   "outputs": [],
   "source": [
    "from mordred import HydrogenBond, Polarizability\n",
    "from mordred import SLogP, AcidBase, BertzCT, Aromatic, BondCount\n",
    "from mordred import Calculator\n",
    "space_tstats, beta = exmol.lime_explain(space)"
   ]
  },
  {
   "cell_type": "code",
   "execution_count": 16,
   "metadata": {},
   "outputs": [
    {
     "data": {
      "text/plain": [
       "{}"
      ]
     },
     "execution_count": 16,
     "metadata": {},
     "output_type": "execute_result"
    }
   ],
   "source": [
    "from collections import OrderedDict\n",
    "feature_importance = {a:b for a, b in zip(space[0].descriptors.descriptor_names, space_tstats)}\n",
    "feature_importance = dict(sorted(feature_importance.items(),\n",
    "             key=lambda item: item[1],\n",
    "             reverse=True))\n",
    "#Fitted space important features\n",
    "feature_importance"
   ]
  },
  {
   "cell_type": "code",
   "execution_count": 17,
   "metadata": {},
   "outputs": [
    {
     "data": {
      "text/plain": [
       "{}"
      ]
     },
     "execution_count": 17,
     "metadata": {},
     "output_type": "execute_result"
    }
   ],
   "source": [
    "important_features = {}\n",
    "for i in feature_importance:\n",
    "    if feature_importance[i] > 3:\n",
    "        important_features[i] = feature_importance[i]\n",
    "important_features"
   ]
  },
  {
   "cell_type": "code",
   "execution_count": 18,
   "metadata": {},
   "outputs": [
    {
     "name": "stdout",
     "output_type": "stream",
     "text": [
      "27.826365916207166 -26.79676017173483\n",
      "0.9325005617926434 -0.2838399277979241\n",
      "0.1433547087996583 -0.42399912546481433\n",
      "0.7696198600095715 -1.3906202466022926\n"
     ]
    },
    {
     "data": {
      "text/plain": [
       "(array([ 28,  45,  46,  52,  69,  77,  78,  79,  82,  84,  85,  93,  94,\n",
       "         97,  99, 100, 110, 114, 117, 119, 124, 134, 138, 142, 149, 151]), 33)"
      ]
     },
     "execution_count": 18,
     "metadata": {},
     "output_type": "execute_result"
    }
   ],
   "source": [
    "exps = exmol.rcf_explain(space, 0.5, nmols=5)\n",
    "exps = exmol.get_descriptors(exps)\n",
    "# get tstats as a difference from base\n",
    "for e in exps:\n",
    "    if e.is_origin:\n",
    "        base = e.descriptors.descriptors\n",
    "        e.descriptors.tstats = np.subtract(base, e.descriptors.descriptors) * beta\n",
    "    else:\n",
    "        e.descriptors.tstats = np.subtract(base, e.descriptors.descriptors) * beta\n",
    "        print(np.max(e.descriptors.tstats), np.min(e.descriptors.tstats))\n",
    "\n",
    "on_bits = list(np.concatenate([[i for i in range(1,167) if e.descriptors.tstats[i] != 0]\n",
    "                               for e in exps if e.is_origin==False]).flat)\n",
    "\n",
    "np.unique(on_bits), len(on_bits)"
   ]
  },
  {
   "cell_type": "code",
   "execution_count": 20,
   "metadata": {
    "scrolled": false
   },
   "outputs": [
    {
     "ename": "TypeError",
     "evalue": "a bytes-like object is required, not 'tuple'",
     "output_type": "error",
     "traceback": [
      "\u001b[0;31m---------------------------------------------------------------------------\u001b[0m",
      "\u001b[0;31mTypeError\u001b[0m                                 Traceback (most recent call last)",
      "\u001b[0;32m<ipython-input-20-96917fb096f1>\u001b[0m in \u001b[0;36m<module>\u001b[0;34m\u001b[0m\n\u001b[1;32m      3\u001b[0m \u001b[0mexmol\u001b[0m\u001b[0;34m.\u001b[0m\u001b[0mplot_cf\u001b[0m\u001b[0;34m(\u001b[0m\u001b[0mexps\u001b[0m\u001b[0;34m,\u001b[0m \u001b[0mfigure_kwargs\u001b[0m\u001b[0;34m=\u001b[0m\u001b[0mfkw\u001b[0m\u001b[0;34m,\u001b[0m \u001b[0mmol_size\u001b[0m\u001b[0;34m=\u001b[0m\u001b[0;34m(\u001b[0m\u001b[0;36m450\u001b[0m\u001b[0;34m,\u001b[0m\u001b[0;36m400\u001b[0m\u001b[0;34m)\u001b[0m\u001b[0;34m,\u001b[0m \u001b[0mnrows\u001b[0m\u001b[0;34m=\u001b[0m\u001b[0;36m2\u001b[0m\u001b[0;34m)\u001b[0m\u001b[0;34m\u001b[0m\u001b[0;34m\u001b[0m\u001b[0m\n\u001b[1;32m      4\u001b[0m \u001b[0;31m# exmol.plot_space(space, exps, figure_kwargs=fkw, mol_size=(300,200), offset=1, plot_descriptors=False)\u001b[0m\u001b[0;34m\u001b[0m\u001b[0;34m\u001b[0m\u001b[0;34m\u001b[0m\u001b[0m\n\u001b[0;32m----> 5\u001b[0;31m \u001b[0msvg\u001b[0m \u001b[0;34m=\u001b[0m \u001b[0mexmol\u001b[0m\u001b[0;34m.\u001b[0m\u001b[0minsert_svg\u001b[0m\u001b[0;34m(\u001b[0m\u001b[0mexps\u001b[0m\u001b[0;34m=\u001b[0m\u001b[0mexps\u001b[0m\u001b[0;34m,\u001b[0m \u001b[0mdescriptors\u001b[0m\u001b[0;34m=\u001b[0m\u001b[0;32mTrue\u001b[0m\u001b[0;34m)\u001b[0m\u001b[0;34m\u001b[0m\u001b[0;34m\u001b[0m\u001b[0m\n\u001b[0m\u001b[1;32m      6\u001b[0m \u001b[0mdisplay\u001b[0m\u001b[0;34m(\u001b[0m\u001b[0msvg\u001b[0m\u001b[0;34m)\u001b[0m\u001b[0;34m\u001b[0m\u001b[0;34m\u001b[0m\u001b[0m\n\u001b[1;32m      7\u001b[0m \u001b[0mplt\u001b[0m\u001b[0;34m.\u001b[0m\u001b[0msavefig\u001b[0m\u001b[0;34m(\u001b[0m\u001b[0;34m'rnn-simple.png'\u001b[0m\u001b[0;34m,\u001b[0m \u001b[0mdpi\u001b[0m\u001b[0;34m=\u001b[0m\u001b[0;36m180\u001b[0m\u001b[0;34m)\u001b[0m\u001b[0;34m\u001b[0m\u001b[0;34m\u001b[0m\u001b[0m\n",
      "\u001b[0;32m/gpfs/fs2/scratch/hgandhi/exmol/exmol/plot_utils.py\u001b[0m in \u001b[0;36minsert_svg\u001b[0;34m(exps, mol_size, descriptors)\u001b[0m\n\u001b[1;32m     72\u001b[0m             \u001b[0m_descriptor_layout\u001b[0m\u001b[0;34m(\u001b[0m\u001b[0mds\u001b[0m\u001b[0;34m,\u001b[0m \u001b[0msize\u001b[0m\u001b[0;34m)\u001b[0m\u001b[0;34m\u001b[0m\u001b[0;34m\u001b[0m\u001b[0m\n\u001b[1;32m     73\u001b[0m             \u001b[0mrsvg\u001b[0m \u001b[0;34m=\u001b[0m \u001b[0mskunk\u001b[0m\u001b[0;34m.\u001b[0m\u001b[0mpltsvg\u001b[0m\u001b[0;34m(\u001b[0m\u001b[0;34m)\u001b[0m\u001b[0;34m\u001b[0m\u001b[0;34m\u001b[0m\u001b[0m\n\u001b[0;32m---> 74\u001b[0;31m             \u001b[0mmol_svgs\u001b[0m\u001b[0;34m[\u001b[0m\u001b[0mi\u001b[0m\u001b[0;34m]\u001b[0m \u001b[0;34m=\u001b[0m \u001b[0mskunk\u001b[0m\u001b[0;34m.\u001b[0m\u001b[0m_rewrite_svg\u001b[0m\u001b[0;34m(\u001b[0m\u001b[0mrsvg\u001b[0m\u001b[0;34m,\u001b[0m \u001b[0;34m{\u001b[0m\u001b[0;34m'mol-holder'\u001b[0m\u001b[0;34m:\u001b[0m \u001b[0;34m(\u001b[0m\u001b[0mms\u001b[0m\u001b[0;34m,\u001b[0m \u001b[0mmol_size\u001b[0m\u001b[0;34m)\u001b[0m\u001b[0;34m}\u001b[0m\u001b[0;34m)\u001b[0m\u001b[0;34m\u001b[0m\u001b[0;34m\u001b[0m\u001b[0m\n\u001b[0m\u001b[1;32m     75\u001b[0m \u001b[0;34m\u001b[0m\u001b[0m\n\u001b[1;32m     76\u001b[0m     \u001b[0mscale\u001b[0m \u001b[0;34m=\u001b[0m \u001b[0;36m1\u001b[0m\u001b[0;34m\u001b[0m\u001b[0;34m\u001b[0m\u001b[0m\n",
      "\u001b[0;32m~/.local/lib/python3.7/site-packages/skunk/__init__.py\u001b[0m in \u001b[0;36m_rewrite_svg\u001b[0;34m(svg, rdict)\u001b[0m\n\u001b[1;32m    107\u001b[0m             \u001b[0;31m# set attributes on SVG so loc and width/height are correct\u001b[0m\u001b[0;34m\u001b[0m\u001b[0;34m\u001b[0m\u001b[0;34m\u001b[0m\u001b[0m\n\u001b[1;32m    108\u001b[0m             \u001b[0;32mtry\u001b[0m\u001b[0;34m:\u001b[0m\u001b[0;34m\u001b[0m\u001b[0;34m\u001b[0m\u001b[0m\n\u001b[0;32m--> 109\u001b[0;31m                 \u001b[0mrr\u001b[0m \u001b[0;34m=\u001b[0m \u001b[0mET\u001b[0m\u001b[0;34m.\u001b[0m\u001b[0mfromstring\u001b[0m\u001b[0;34m(\u001b[0m\u001b[0mrv\u001b[0m\u001b[0;34m)\u001b[0m\u001b[0;34m\u001b[0m\u001b[0;34m\u001b[0m\u001b[0m\n\u001b[0m\u001b[1;32m    110\u001b[0m             \u001b[0;32mexcept\u001b[0m \u001b[0mET\u001b[0m\u001b[0;34m.\u001b[0m\u001b[0mParseError\u001b[0m\u001b[0;34m:\u001b[0m\u001b[0;34m\u001b[0m\u001b[0;34m\u001b[0m\u001b[0m\n\u001b[1;32m    111\u001b[0m                 raise ValueError(\n",
      "\u001b[0;32m~/.conda/envs/exmol/lib/python3.7/xml/etree/ElementTree.py\u001b[0m in \u001b[0;36mXML\u001b[0;34m(text, parser)\u001b[0m\n\u001b[1;32m   1313\u001b[0m     \u001b[0;32mif\u001b[0m \u001b[0;32mnot\u001b[0m \u001b[0mparser\u001b[0m\u001b[0;34m:\u001b[0m\u001b[0;34m\u001b[0m\u001b[0;34m\u001b[0m\u001b[0m\n\u001b[1;32m   1314\u001b[0m         \u001b[0mparser\u001b[0m \u001b[0;34m=\u001b[0m \u001b[0mXMLParser\u001b[0m\u001b[0;34m(\u001b[0m\u001b[0mtarget\u001b[0m\u001b[0;34m=\u001b[0m\u001b[0mTreeBuilder\u001b[0m\u001b[0;34m(\u001b[0m\u001b[0;34m)\u001b[0m\u001b[0;34m)\u001b[0m\u001b[0;34m\u001b[0m\u001b[0;34m\u001b[0m\u001b[0m\n\u001b[0;32m-> 1315\u001b[0;31m     \u001b[0mparser\u001b[0m\u001b[0;34m.\u001b[0m\u001b[0mfeed\u001b[0m\u001b[0;34m(\u001b[0m\u001b[0mtext\u001b[0m\u001b[0;34m)\u001b[0m\u001b[0;34m\u001b[0m\u001b[0;34m\u001b[0m\u001b[0m\n\u001b[0m\u001b[1;32m   1316\u001b[0m     \u001b[0;32mreturn\u001b[0m \u001b[0mparser\u001b[0m\u001b[0;34m.\u001b[0m\u001b[0mclose\u001b[0m\u001b[0;34m(\u001b[0m\u001b[0;34m)\u001b[0m\u001b[0;34m\u001b[0m\u001b[0;34m\u001b[0m\u001b[0m\n\u001b[1;32m   1317\u001b[0m \u001b[0;34m\u001b[0m\u001b[0m\n",
      "\u001b[0;31mTypeError\u001b[0m: a bytes-like object is required, not 'tuple'"
     ]
    },
    {
     "data": {
      "image/png": "[encoded data removed]",
      "text/plain": [
       "<Figure size 720x792 with 6 Axes>"
      ]
     },
     "metadata": {
      "needs_background": "light"
     },
     "output_type": "display_data"
    },
    {
     "data": {
      "image/png": "[encoded data removed]",
      "text/plain": [
       "<Figure size 220x220 with 2 Axes>"
      ]
     },
     "metadata": {
      "needs_background": "light"
     },
     "output_type": "display_data"
    }
   ],
   "source": [
    "%matplotlib inline\n",
    "fkw = {'figsize': (10,11)}\n",
    "exmol.plot_cf(exps, figure_kwargs=fkw, mol_size=(450,400), nrows=2)\n",
    "# exmol.plot_space(space, exps, figure_kwargs=fkw, mol_size=(300,200), offset=1, plot_descriptors=False)\n",
    "svg = exmol.insert_svg(exps=exps, descriptors=True)\n",
    "skunk.display(svg)\n",
    "plt.savefig('rnn-simple.png', dpi=180)"
   ]
  },
  {
   "cell_type": "code",
   "execution_count": null,
   "metadata": {},
   "outputs": [],
   "source": [
    "fkw = {'figsize': (10,8)}\n",
    "font = {'family' : 'normal',\n",
    "        'weight' : 'normal',\n",
    "        'size'   : 22}\n",
    "\n",
    "# exmol.plot_space(space, exps, figure_kwargs=fkw, mol_size=(300,200), offset=1, plot_descriptors=True, beta=beta)\n",
    "# plt.colorbar(location='left', label='Solubility [Log M]')\n",
    "plt.tight_layout()\n",
    "plt.savefig('rnn-space.png', bbox_inches='tight', dpi=180)"
   ]
  },
  {
   "cell_type": "code",
   "execution_count": null,
   "metadata": {},
   "outputs": [],
   "source": [
    "space = exmol.sample_space(soldata.SMILES[4], predictor_function, preset='wide')\n",
    "exps = exmol.rcf_explain(space, 0.5)\n",
    "fkw = {'figsize': (8,6)}\n",
    "font = {'family' : 'normal',\n",
    "        'weight' : 'normal',\n",
    "        'size'   : 22}\n",
    "\n",
    "exmol.plot_space(space, exps, figure_kwargs=fkw, mol_size=(200,200), offset=1)\n",
    "plt.colorbar(location='left', label='Solubility [Log M]')\n",
    "plt.tight_layout()\n",
    "plt.savefig('rnn-wide.png', bbox_inches='tight', dpi=180)"
   ]
  },
  {
   "cell_type": "markdown",
   "metadata": {},
   "source": [
    "## Figure showing effect of mutation number and Alphabet\n"
   ]
  },
  {
   "cell_type": "code",
   "execution_count": null,
   "metadata": {},
   "outputs": [],
   "source": [
    "exps = []\n",
    "spaces = []\n",
    "for i in [1,3,5]:\n",
    "    stoned_kwargs={'num_samples': 2500, 'alphabet':exmol.get_basic_alphabet(),'min_mutations':i, 'max_mutations': i}\n",
    "    space = exmol.sample_space(soldata.SMILES[4], predictor_function, stoned_kwargs=stoned_kwargs)\n",
    "    spaces.append(space)\n",
    "    e = exmol.rcf_explain(space, nmols=2)\n",
    "    if len(exps) == 0:\n",
    "        exps.append(e[0])\n",
    "    for ei in e:\n",
    "        if not ei.is_origin and 'Decrease' in ei.label:\n",
    "            ei.label = f'Mutations = {i}'\n",
    "            exps.append(ei)\n",
    "            break"
   ]
  },
  {
   "cell_type": "code",
   "execution_count": null,
   "metadata": {},
   "outputs": [],
   "source": [
    "fkw = {'figsize': (10, 4)}\n",
    "exmol.plot_cf(exps, figure_kwargs=fkw, mol_fontsize=26, mol_size=(400,400), nrows=1)\n",
    "plt.savefig('rnn-mutations.png', bbox_inches='tight', dpi=180)"
   ]
  },
  {
   "cell_type": "code",
   "execution_count": null,
   "metadata": {},
   "outputs": [],
   "source": [
    "fig, axs = plt.subplots(1, 3, figsize=(8,3), dpi=180, squeeze=True, sharey=True)\n",
    "for i,n in enumerate([1,3,5]):\n",
    "    axs[i].hist([e.similarity for e in spaces[i][1:]], bins=99,edgecolor='none')\n",
    "    axs[i].set_title(f'Mutations = {n}')\n",
    "    axs[i].set_xlim(0,1)\n",
    "plt.tight_layout()\n",
    "plt.savefig('rnn-mutation-hist.png', bbox_inches='tight', dpi=180)"
   ]
  },
  {
   "cell_type": "code",
   "execution_count": null,
   "metadata": {},
   "outputs": [],
   "source": [
    "basic = exmol.get_basic_alphabet()\n",
    "train = sf.get_alphabet_from_selfies(selfies_list)\n",
    "wide = sf.get_semantic_robust_alphabet()\n",
    "\n",
    "alphs = {'Basic': basic, 'Training Data': train, 'SELFIES': wide}\n",
    "\n",
    "exps = []\n",
    "for l,a in alphs.items():\n",
    "    stoned_kwargs={'num_samples': 2500//2, 'alphabet':a, 'max_mutations': 2}\n",
    "    space = exmol.sample_space(soldata.SMILES[4], predictor_function, stoned_kwargs=stoned_kwargs)\n",
    "    e = exmol.rcf_explain(space, nmols=2)\n",
    "    if len(exps) == 0:\n",
    "        exps.append(e[0])\n",
    "    for ei in e:\n",
    "        if not ei.is_origin and 'Decrease' in ei.label:\n",
    "            ei.label = f'Alphabet = {l}'\n",
    "            exps.append(ei)\n",
    "            break"
   ]
  },
  {
   "cell_type": "code",
   "execution_count": null,
   "metadata": {},
   "outputs": [],
   "source": [
    "fkw = {'figsize': (10, 4)}\n",
    "exmol.plot_cf(exps, figure_kwargs=fkw, mol_fontsize=26, mol_size=(400,400), nrows=1)\n",
    "plt.savefig('rnn-alphabets.png', bbox_inches='tight', dpi=180)"
   ]
  }
 ],
 "metadata": {
  "kernelspec": {
   "display_name": "Python 3 (ipykernel)",
   "language": "python",
   "name": "python3"
  },
  "language_info": {
   "codemirror_mode": {
    "name": "ipython",
    "version": 3
   },
   "file_extension": ".py",
   "mimetype": "text/x-python",
   "name": "python",
   "nbconvert_exporter": "python",
   "pygments_lexer": "ipython3",
   "version": "3.7.11"
  }
 },
 "nbformat": 4,
 "nbformat_minor": 4
}
